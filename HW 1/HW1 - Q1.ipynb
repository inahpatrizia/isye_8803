{
 "cells": [
  {
   "cell_type": "markdown",
   "id": "97315932",
   "metadata": {},
   "source": [
    "# HW1 - Q1"
   ]
  },
  {
   "cell_type": "code",
   "execution_count": 1,
   "id": "d1d46784",
   "metadata": {},
   "outputs": [],
   "source": [
    "import matplotlib.pyplot as plt\n",
    "import numpy as np\n",
    "import pandas as pd"
   ]
  },
  {
   "cell_type": "markdown",
   "id": "48c763e1",
   "metadata": {},
   "source": [
    "## Derivation\n",
    "\n",
    "$f(x) = \\frac{1}{x^2}$  \n",
    "$S_1(x) = a_1 + b_1(x-1) + c_1(x-1)^2 + d_1(x_1)^3, x \\in [1,2]$  \n",
    "$S_2(x) = a_2 + b_2(x-2) + c_2(x-2)^2 + d_2(x_2)^3, x \\in [2,5]$  \n",
    "  \n",
    "Plug in knots to find value of f(x):\n",
    "* $f(1) = 1$\n",
    "* $f(2) = \\frac{1}{4}$\n",
    "* $f(5) = \\frac{1}{25}$\n",
    "\n",
    "Find $S'_1(x), S'_2(x), S''_1(x), S''_2(x): $\n",
    "* $S'_1(x) = b_1 + 2c_1(x-1) + 3d_1(x-1)^2$\n",
    "* $S'_2(x) = b_2 + 2c_2(x-2) + 3d_2(x-2)^2$\n",
    "* $S''_1(x) = 2c_1 + 6d_1(x-1)$\n",
    "* $S''_2(x) = 2c_2 + 6d_2(x-2)$\n",
    "  \n",
    "Solve for unknowns:  \n",
    "$S_1(1)=1 \\longrightarrow a_1 = 1$  \n",
    "$S_1(2)=\\frac{1}{4}: b_1 + c_1 + d_1 = \\frac{-3}{4}$  \n",
    "$S_2(2)=\\frac{1}{4} \\longrightarrow a_2 = \\frac{1}{4}$   \n",
    "$S_2(5)=\\frac{1}{25}: b_2 + 3c_2 + 9d_2 = \\frac{-7}{100}$\n",
    "  \n",
    "$S'_1(2) = S_2'(2): b_1 + 2c_1 + 3d_1 = b_2$  \n",
    "$S''_1(2) = S_2''(2): c_1 + 3d_1 = c_2$\n",
    "  \n",
    "$S''_1(0) = 0) \\longrightarrow c_1=0$  \n",
    "$S''_2(5) = 0): c_2 + 9d_2 = 0$\n",
    "\n",
    "With the following 5 equations, use Gaussian elimination to solve for remaining 5 unknowns:\n",
    "1. $b_1 + d_1 = \\frac{-3}{4}$\n",
    "2. $b_2 + 3c_2 + 9d_2 = \\frac{-7}{100}$\n",
    "3. $b_1 + 3d_1 - b_2 = 0$\n",
    "4. $3d_1 - c_2 = 0$\n",
    "5. $c_2 + 9d_2 = 0$\n",
    "\n",
    "$\\begin{bmatrix} b_1 & d_1 & b_2 & c_2 & d_2 & y \\\\ \n",
    "                 1 & 1 & 0 & 0 & 0 & \\frac{3}{4} \\\\\n",
    "                 0 & 0 & 1 & 3 & 9 & \\frac{-7}{100} \\\\\n",
    "                 1 & 3 & -1 & 0 & 0 & 0 \\\\\n",
    "                 0 & 3 & 0 & -1 & 0 & 0 \\\\\n",
    "                 0 & 0 & 0 & 1 & 9 & 0 \\end{bmatrix}$\n",
    "\n",
    "$\\begin{bmatrix} b_1 \\\\ \n",
    "                 d_1 \\\\\n",
    "                 b_2 \\\\\n",
    "                 c_2 \\\\\n",
    "                 d_2 \\end{bmatrix}$ = $\\begin{bmatrix}   \\frac{-167}{200} \\\\ \n",
    "                                                         \\frac{17}{200} \\\\\n",
    "                                                         \\frac{-29}{50} \\\\\n",
    "                                                         \\frac{51}{200} \\\\\n",
    "                                                         \\frac{-17}{600} \\end{bmatrix}$"
   ]
  },
  {
   "cell_type": "markdown",
   "id": "6e50cd0a",
   "metadata": {},
   "source": [
    "## Final Equations & Variables\n",
    "$S_1(x) = 1 + \\frac{-167}{200}(x-1) + \\frac{17}{200}(x_1)^3, x \\in [1,2]$  \n",
    "$S_2(x) = \\frac{1}{4} + \\frac{-29}{50}(x-2) + \\frac{51}{200}(x-2)^2 + \\frac{-17}{600}(x_2)^3, x \\in [2,5]$  \n",
    "\n",
    "$\\begin{bmatrix} a_1 \\\\\n",
    "                 b_1 \\\\ \n",
    "                 c_1 \\\\\n",
    "                 d_1 \\\\\n",
    "                 a_2 \\\\\n",
    "                 b_2 \\\\\n",
    "                 c_2 \\\\\n",
    "                 d_2 \\end{bmatrix}$ = $\\begin{bmatrix}   1\\\\\n",
    "                                                         \\frac{-167}{200} \\\\ \n",
    "                                                         0 \\\\\n",
    "                                                         \\frac{17}{200} \\\\\n",
    "                                                         \\frac{1}{4} \\\\\n",
    "                                                         \\frac{-29}{50} \\\\\n",
    "                                                         \\frac{51}{200} \\\\\n",
    "                                                         \\frac{-17}{600} \\end{bmatrix}$"
   ]
  },
  {
   "cell_type": "markdown",
   "id": "4ae74e73",
   "metadata": {},
   "source": [
    "## Plot"
   ]
  },
  {
   "cell_type": "code",
   "execution_count": 2,
   "id": "de0e2e8e",
   "metadata": {},
   "outputs": [
    {
     "data": {
      "image/png": "[encoded data removed]",
      "text/plain": [
       "<Figure size 432x288 with 1 Axes>"
      ]
     },
     "metadata": {
      "needs_background": "light"
     },
     "output_type": "display_data"
    }
   ],
   "source": [
    "x = np.linspace(1,5,100)\n",
    "y = 1/x**2\n",
    "\n",
    "fig = plt.figure()\n",
    "ax = fig.add_subplot(1, 1, 1)\n",
    "ax.xaxis.set_ticks_position('bottom')\n",
    "ax.yaxis.set_ticks_position('left')\n",
    "\n",
    "# Plot regular function\n",
    "plt.plot(x,y, 'black', label='f(x)')\n",
    "plt.plot(1,1, color='black', marker='o')\n",
    "plt.plot(2,1/4, color='black', marker='o')\n",
    "plt.plot(5,1/25, color='black', marker='o')\n",
    "\n",
    "# Plot S_0\n",
    "a1 = 1\n",
    "b1 = -167/200\n",
    "c1 = 0\n",
    "d1 = 17/200\n",
    "a2 = 1/4\n",
    "b2 = -29/50\n",
    "c2 = 51/200\n",
    "d2 = -17/600\n",
    "s_1 = a1 + b1*(x-1) + c1*(x-1)**2 + d1*(x-1)**3\n",
    "s_2 = a2 + b2*(x-2) + c2*(x-2)**2 + d2*(x-2)**3\n",
    "\n",
    "plt.plot(x[x<2], s_1[x<2], color='red', label='S_1(x)')\n",
    "plt.plot(x[x>2], s_2[x>2], color='blue', label='S_2(x)')\n",
    "plt.legend(loc=\"upper right\")\n",
    "plt.show()"
   ]
  }
 ],
 "metadata": {
  "kernelspec": {
   "display_name": "Python 3 (ipykernel)",
   "language": "python",
   "name": "python3"
  },
  "language_info": {
   "codemirror_mode": {
    "name": "ipython",
    "version": 3
   },
   "file_extension": ".py",
   "mimetype": "text/x-python",
   "name": "python",
   "nbconvert_exporter": "python",
   "pygments_lexer": "ipython3",
   "version": "3.9.12"
  }
 },
 "nbformat": 4,
 "nbformat_minor": 5
}
