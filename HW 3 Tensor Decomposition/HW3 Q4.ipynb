{
 "cells": [
  {
   "cell_type": "markdown",
   "id": "48f30a49",
   "metadata": {},
   "source": [
    "# HW3 Q4 - Theory of CP and Tucker Decomposition"
   ]
  },
  {
   "cell_type": "markdown",
   "id": "e69c3778",
   "metadata": {},
   "source": [
    "### Part A\n",
    "We know that determining rank of a tensor is NP-hard, but some upper bounds could be helpful in the CP decomposition. Show the following upper bound on the rank of the tensor $X \\in R^{IxJxK}: rank(X) \\leq min(IJ, JK, IK)$  \n",
    "  \n",
    "Hint: First, try to show that $rank(X) \\leq IJ$ or $rank(X) \\leq JK$ or $rank(X) \\leq IK$"
   ]
  },
  {
   "cell_type": "markdown",
   "id": "2e32d91d",
   "metadata": {},
   "source": [
    "**Solution**  \n",
    "\n",
    "Using CP decomposition:  \n",
    "$X_{(1)} = X_I(X_J \\odot X_K)^T$   \n",
    "$X_{(2)} = X_J(X_I \\odot X_K)^T$  \n",
    "$X_{(3)} = X_K(X_I \\odot X_J)^T$  \n",
    "\n",
    "Since $(X_J \\odot X_K), (X_I \\odot X_K), (X_I \\odot X_J)$ have full column rank:  \n",
    "$R_1 = rank(X_{(1)}) = rank(X_I) = I$    \n",
    "$R_2 = rank(X_{(1)}) = rank(X_J) = J$  \n",
    "$R_3 = rank(X_{(1)}) = rank(X_K) = K$   \n",
    "\n",
    "$rank(X) = rank(X_J \\odot X_K) = rank(X_I \\odot X_K) = rank(X_I \\odot X_J)$  \n",
    "$\\;\\;\\;\\; rank(X_J \\odot X_K) \\le rank(X_J \\otimes X_K) = rank(X_J)rank(X_K) = JK$  \n",
    "$\\;\\;\\;\\; rank(X_I \\odot X_K) \\le rank(X_I \\otimes X_K) = rank(X_I)rank(X_K) = IK$  \n",
    "$\\;\\;\\;\\; rank(X_I \\odot X_J) \\le rank(X_I \\otimes X_J) = rank(X_I)rank(X_J) = IJ$  \n",
    "$\\Rrightarrow rank(X) \\le JK$ or $rank(X) \\le IK$ or $rank(X) \\le IJ$  \n",
    "$\\Rrightarrow rank(X) \\le min(JK, IK, IJ) \\;\\;\\;\\square$"
   ]
  },
  {
   "cell_type": "markdown",
   "id": "72e14b25",
   "metadata": {},
   "source": [
    "### Part B\n",
    "A natural way to find the Tucker decomposition of a tensor is to minimize the square error between the tensor and reconstructed one. That is:  \n",
    "\n",
    "$minimize_{G, A^{(1)},...,A^{(n)}} || X - [G;  A^{(1)},...,A^{(n)}]||^2$\n",
    "\n",
    "Show that the following statements hold:  \n",
    "\n",
    "1. For given $A^{(1)},...,A^{(k)}$, the core tensor G that minimizes the above minimization program is $G = X \\times_1A^{(1)^T}\\times_2...\\times_nA^{(n)^T}$\n",
    "2. Solving the minimization program is equivalent to solve the following maximization program:  \n",
    "$maximize_{A^{(1)},...,A^{(n)}} || X \\times_1A^{(1)^T}\\times_2...\\times_nA^{(n)^T} ||^2$"
   ]
  },
  {
   "cell_type": "markdown",
   "id": "0282058e",
   "metadata": {},
   "source": [
    "**Part 1 Solution**  \n",
    "Let $\\hat{X} = G\\times_1A^{(1)}\\times_2...\\times_nA^{(n)}$  \n",
    "$minimize_{G, A^{(1)},...,A^{(n)}} || X - \\hat{X}||^2$\n",
    "  \n",
    "Since we assume that $A^{(1)},...,A^{(n)}$ are fixed, the problem becomes:  \n",
    "$minimize_{G} || X - G\\times_1A^{(1)}\\times_2...\\times_nA^{(n)}||^2 $\n",
    "  \n",
    "At minimum, this value will be equal to 0 and then we solve for G:  \n",
    "$|| X - G\\times_1A^{(1)}\\times_2...\\times_nA^{(n)}||^2 = 0$  \n",
    "$X - G\\times_1A^{(1)}\\times_2...\\times_nA^{(n)} = 0$  \n",
    "$X = G\\times_1A^{(1)}\\times_2...\\times_nA^{(n)}$  \n",
    "\n",
    "To isolate for G, we have to multiply by the inverse of $A^{(i)}$. Since $A^{(i)}$ is orthonormal, $A^{(i)} \\times_1 A^{(i)^{T}} = I.$\n",
    "\n",
    "$X \\times_1 A^{(1)^{T}} \\times_2...\\times_n A^{(n)^{T}} = G\\times_1A^{(1)}\\times_1 A^{(1)^{T}}\\times_2...\\times_nA^{(n)}\\times_n A^{(n)^{T}}$  \n",
    "$X \\times_1 A^{(1)^{T}} \\times_2...\\times_n A^{(n)^{T}} = G \\;\\;\\; \\square$"
   ]
  },
  {
   "cell_type": "markdown",
   "id": "2c761520",
   "metadata": {},
   "source": [
    "**Part 2 Solution**  \n",
    "\n",
    "$minimize_{G, A^{(1)},...,A^{(n)}} || X - \\hat{X}||^2$  \n",
    "$minimize_{G, A^{(1)},...,A^{(n)}} ||X||^2 - 2<X,\\hat{X}> - ||\\hat{X}||^2 $  \n",
    "$\\;\\;\\;\\;\\; ||\\hat{X}||^2 = (G\\times_1A^{(1)}\\times_2...\\times_nA^{(n)})(G\\times_1A^{(1)}\\times_2...\\times_nA^{(n)})^T = GG^T = ||G||^2$  \n",
    "$minimize_{G, A^{(1)},...,A^{(n)}} ||X||^2 - 2<X,G\\times_1A^{(1)}\\times_2...\\times_nA^{(n)}> - ||G||^2 $  \n",
    "\n",
    "$minimize_{G, A^{(1)},...,A^{(n)}} ||X||^2 - 2<X\\times_1A^{(1)^T}\\times_2...\\times_nA^{(n)^T},G> - ||G||^2 $  \n",
    "$minimize_{G, A^{(1)},...,A^{(n)}} ||X||^2 - 2<G,G> - ||G||^2 $  \n",
    "$minimize_{G, A^{(1)},...,A^{(n)}} ||X||^2 - 2||G||^2 - ||G||^2 $  \n",
    "$minimize_{G, A^{(1)},...,A^{(n)}} ||X||^2 - 3||G||^2$  \n",
    "$\\;\\;\\;\\;\\; X = G\\times_1A^{(1)}\\times_2...\\times_nA^{(n)}$  \n",
    "$\\;\\;\\;\\;\\; ||X||^2 = XX^T = (G\\times_1A^{(1)}\\times_2...\\times_nA^{(n)})(G\\times_1A^{(1)}\\times_2...\\times_nA^{(n)})^T = GG^T = ||G||^2$  \n",
    "\n",
    "$minimize_{G, A^{(1)},...,A^{(n)}} ||G||^2 - 3||G||^2$  \n",
    "$minimize_{G, A^{(1)},...,A^{(n)}} -2||G||^2$  \n",
    "$maximize_{A^{(1)},...,A^{(n)}} ||G||^2$  \n",
    "$maximize_{A^{(1)},...,A^{(n)}} ||X\\times_1A^{(1)^T}\\times_2...\\times_nA^{(n)^T}||^2\\;\\;\\; \\square$\n",
    "\n",
    "\n",
    "    \n",
    "      \n"
   ]
  }
 ],
 "metadata": {
  "kernelspec": {
   "display_name": "Python 3 (ipykernel)",
   "language": "python",
   "name": "python3"
  },
  "language_info": {
   "codemirror_mode": {
    "name": "ipython",
    "version": 3
   },
   "file_extension": ".py",
   "mimetype": "text/x-python",
   "name": "python",
   "nbconvert_exporter": "python",
   "pygments_lexer": "ipython3",
   "version": "3.9.12"
  }
 },
 "nbformat": 4,
 "nbformat_minor": 5
}
