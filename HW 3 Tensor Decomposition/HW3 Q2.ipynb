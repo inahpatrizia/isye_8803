{
 "cells": [
  {
   "cell_type": "markdown",
   "id": "73c4dabe",
   "metadata": {},
   "source": [
    "# HW3 Q2 - Tensor Analysis \n",
    "### Noisy Binary Digit Classification"
   ]
  },
  {
   "cell_type": "code",
   "execution_count": 1,
   "id": "cdbfb81c",
   "metadata": {},
   "outputs": [],
   "source": [
    "import pandas as pd\n",
    "import numpy as np\n",
    "import scipy.io as spio\n",
    "import random\n",
    "import matplotlib.pyplot as plt\n",
    "import tensorly as tl\n",
    "from tensorly.decomposition import tucker\n",
    "from tensorly.tenalg import outer\n",
    "from sklearn.preprocessing import MinMaxScaler\n",
    "from sklearn.ensemble import RandomForestClassifier\n",
    "\n",
    "np.random.seed(1)\n",
    "min_max_scaler = MinMaxScaler()"
   ]
  },
  {
   "cell_type": "code",
   "execution_count": 2,
   "id": "bf4722cd",
   "metadata": {},
   "outputs": [],
   "source": [
    "X_noisy = spio.loadmat('data/matlab/binary_mnist_noisy.mat',squeeze_me=True)['X_noisy']\n",
    "X = spio.loadmat('data/matlab/binary_mnist_train.mat',squeeze_me=True)['X']\n",
    "X_test = spio.loadmat('data/matlab/binary_mnist_test.mat',squeeze_me=True)['X_test']"
   ]
  },
  {
   "cell_type": "markdown",
   "id": "00e6864e",
   "metadata": {},
   "source": [
    "### Part 1\n",
    "**Preprocess datasets so that X, X_test, and X_noisy are tensors of the form (k x 28 x 28) with pixel values ranging between 0 and 1. Additionally, define y, y_test, and y_noisy as vectors encoding the classes specified above and submit two plots of images (one 0 and one 1) from the training set.**"
   ]
  },
  {
   "cell_type": "code",
   "execution_count": 3,
   "id": "88ff776a",
   "metadata": {},
   "outputs": [],
   "source": [
    "# Define y\n",
    "y = np.zeros(100)\n",
    "y[50:101] = 1\n",
    "\n",
    "y_test = np.zeros(20)\n",
    "y_test[10:21] = 1\n",
    "\n",
    "y_noisy = np.zeros(20)\n",
    "y_noisy[10:21] = 1"
   ]
  },
  {
   "cell_type": "code",
   "execution_count": 4,
   "id": "42c294ae",
   "metadata": {},
   "outputs": [],
   "source": [
    "# Scale X, X_test, X_noisy\n",
    "X_2d = min_max_scaler.fit_transform(X)\n",
    "X_test_2d = min_max_scaler.fit_transform(X_test)\n",
    "X_noisy_2d = min_max_scaler.fit_transform(X_noisy)"
   ]
  },
  {
   "cell_type": "code",
   "execution_count": 5,
   "id": "31e44899",
   "metadata": {},
   "outputs": [],
   "source": [
    "# Reshape\n",
    "X = X_2d.reshape([X_2d.shape[0], 28, 28])\n",
    "X_test = X_test_2d.reshape([X_test_2d.shape[0], 28, 28])\n",
    "X_noisy = X_noisy_2d.reshape([X_noisy_2d.shape[0], 28, 28])"
   ]
  },
  {
   "cell_type": "code",
   "execution_count": 6,
   "id": "7e8ea059",
   "metadata": {},
   "outputs": [
    {
     "data": {
      "text/plain": [
       "<matplotlib.image.AxesImage at 0x7fcda558c310>"
      ]
     },
     "execution_count": 6,
     "metadata": {},
     "output_type": "execute_result"
    },
    {
     "data": {
      "image/png": "[encoded data removed]",
      "text/plain": [
       "<Figure size 432x288 with 1 Axes>"
      ]
     },
     "metadata": {
      "needs_background": "light"
     },
     "output_type": "display_data"
    }
   ],
   "source": [
    "# Plot images - 0\n",
    "plt.imshow(X[0].T, cmap='gray')"
   ]
  },
  {
   "cell_type": "code",
   "execution_count": 7,
   "id": "26aec6f6",
   "metadata": {},
   "outputs": [
    {
     "data": {
      "text/plain": [
       "<matplotlib.image.AxesImage at 0x7fcd9fa35730>"
      ]
     },
     "execution_count": 7,
     "metadata": {},
     "output_type": "execute_result"
    },
    {
     "data": {
      "image/png": "[encoded data removed]",
      "text/plain": [
       "<Figure size 432x288 with 1 Axes>"
      ]
     },
     "metadata": {
      "needs_background": "light"
     },
     "output_type": "display_data"
    }
   ],
   "source": [
    "# Plot images - 1\n",
    "plt.imshow(X[50].T, cmap='gray')"
   ]
  },
  {
   "cell_type": "markdown",
   "id": "ec69013a",
   "metadata": {},
   "source": [
    "### Part 2\n",
    "**Implement Alternating least squares algorithm, with tolerance = 1e-04 and max iterations = 50, to decompose each 28 x 28 image in the training set to a 20 x 20 matrix using MATLAB's tucker_als or R's tucker function in rTensor module. Then use either MATLAB's TreeBagger or R's randomForest function to fit a random forest classifier with 500 trees. Please report the classification accuracy of the model for the training set.**  \n",
    "\n",
    "https://edstem.org/us/courses/25064/discussion/1795939?comment=4180055"
   ]
  },
  {
   "cell_type": "code",
   "execution_count": 8,
   "id": "a4a00d2c",
   "metadata": {},
   "outputs": [],
   "source": [
    "max_iter = 50\n",
    "tol = 1e-04\n",
    "\n",
    "# Tucker Decomposition\n",
    "core, factors = tucker(X, rank=[100, 20, 20], n_iter_max=max_iter, tol=tol)\n",
    "   \n",
    "# Reconstructing X using G and Ui             \n",
    "G = tl.tenalg.mode_dot(X, factors[0], mode=0)\n",
    "X_train = tl.tenalg.multi_mode_dot(G, [factors[1].T, factors[2].T], [1,2])\n",
    "X_train_2d = X_train.reshape(X_train.shape[0], X_train.shape[1]*X_train.shape[2])                        "
   ]
  },
  {
   "cell_type": "code",
   "execution_count": 9,
   "id": "4b7b4d3f",
   "metadata": {},
   "outputs": [
    {
     "name": "stdout",
     "output_type": "stream",
     "text": [
      "Classification Accuracy of X = 100%\n"
     ]
    }
   ],
   "source": [
    "# Train random forest classifier\n",
    "clf_rf = RandomForestClassifier(n_estimators=500)\n",
    "clf_rf.fit(X_train_2d,y)\n",
    "clf_acc = clf_rf.score(X_train_2d, y)\n",
    "\n",
    "print(\"Classification Accuracy of X = \" + str(round(clf_acc*100)) + '%')"
   ]
  },
  {
   "cell_type": "markdown",
   "id": "db7108db",
   "metadata": {},
   "source": [
    "### Part 3\n",
    "**Using the previously built model, predict the classes of the test and noisy data sets and report the classification accuracy of the model for both datasets. What conclusions can be drawn from your findings and what can be done to further improve the model's response?**"
   ]
  },
  {
   "cell_type": "code",
   "execution_count": 10,
   "id": "7e46af0c",
   "metadata": {},
   "outputs": [],
   "source": [
    "# Reconstructing X using G and Ui\n",
    "G_test = tl.tenalg.multi_mode_dot(X_test, [factors[1].T, factors[2].T], [1,2])\n",
    "G_test_2d = G_test.reshape(G_test.shape[0], G_test.shape[1]*G_test.shape[2])\n",
    "\n",
    "G_noisy = tl.tenalg.multi_mode_dot(X_noisy, [factors[1].T, factors[2].T], [1,2])\n",
    "G_noisy_2d = G_noisy.reshape(G_noisy.shape[0], G_noisy.shape[1]*G_noisy.shape[2])"
   ]
  },
  {
   "cell_type": "code",
   "execution_count": 11,
   "id": "48edd3e4",
   "metadata": {},
   "outputs": [],
   "source": [
    "clf_acc_test = clf_rf.score(G_test_2d, y_test)\n",
    "clf_acc_noisy = clf_rf.score(G_noisy_2d, y_noisy)"
   ]
  },
  {
   "cell_type": "code",
   "execution_count": 12,
   "id": "9209ced1",
   "metadata": {},
   "outputs": [
    {
     "name": "stdout",
     "output_type": "stream",
     "text": [
      "Classification Accuracy of X_test = 35%\n",
      "Classification Accuracy of X_noisy = 35%\n",
      "Based on these results, I think the model is overfit; I would expect a lower accuracy from X_noisy but it looks like the model performs the same on X_test and X_noisy. To improve model response, I would test different tensor ranks to see which gives me better test results (ie - 14 instead of 20).\n"
     ]
    }
   ],
   "source": [
    "print(\"Classification Accuracy of X_test = \" + str(round(clf_acc_test*100)) + '%')\n",
    "print(\"Classification Accuracy of X_noisy = \" + str(round(clf_acc_noisy*100)) + '%')\n",
    "print(\"Based on these results, I think the model is overfit; I would expect a lower accuracy from X_noisy but it looks like the model performs the same on X_test and X_noisy. To improve model response, I would test different tensor ranks to see which gives me better test results (ie - 14 instead of 20).\")"
   ]
  }
 ],
 "metadata": {
  "kernelspec": {
   "display_name": "Python 3 (ipykernel)",
   "language": "python",
   "name": "python3"
  },
  "language_info": {
   "codemirror_mode": {
    "name": "ipython",
    "version": 3
   },
   "file_extension": ".py",
   "mimetype": "text/x-python",
   "name": "python",
   "nbconvert_exporter": "python",
   "pygments_lexer": "ipython3",
   "version": "3.9.12"
  }
 },
 "nbformat": 4,
 "nbformat_minor": 5
}
