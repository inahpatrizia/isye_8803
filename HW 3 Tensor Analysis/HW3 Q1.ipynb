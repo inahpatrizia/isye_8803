{
 "cells": [
  {
   "cell_type": "markdown",
   "id": "70a5e4e1",
   "metadata": {},
   "source": [
    "# HW3 Q1 - Tensor Decomposition Reconstructions"
   ]
  },
  {
   "cell_type": "code",
   "execution_count": 1,
   "id": "8ec76d4c",
   "metadata": {},
   "outputs": [],
   "source": [
    "import pandas as pd\n",
    "import numpy as np\n",
    "import tensorly as tl\n",
    "from tensorly.decomposition import parafac, tucker\n",
    "from tensorly.tenalg import outer\n",
    "from itertools import product"
   ]
  },
  {
   "cell_type": "code",
   "execution_count": 2,
   "id": "31d437cd",
   "metadata": {},
   "outputs": [],
   "source": [
    "lam = np.array([41.9075, 18.6722])\n",
    "U1 = np.array([[0.6981, -0.4153],[0.1774, 0.7037],[0.6937, -0.5765]])\n",
    "U2 = np.array([[0.6192, 0.8159],[0.3613, 0.2623],[0.6972, 0.5152]])\n",
    "U3 = np.array([[0.6212, 0.6793],[0.5735, 0.6841],[0.5341, 0.2657]])\n",
    "U4 = np.array([[0.6693, 0.5947],[0.7430, 0.8040]])"
   ]
  },
  {
   "cell_type": "markdown",
   "id": "e765a3ea",
   "metadata": {},
   "source": [
    "### Part 1a\n",
    "**Write out the calculation of first outer product $U_{1,1} \\circ U_{2,1}$**  \n",
    "  \n",
    "$U_{1,1} = \\begin{bmatrix} 0.6981\\\\0.1774 \\\\0.6937\\end{bmatrix}\\;\\;U_{2,1} = \\begin{bmatrix} 0.6192\\\\0.3613\\\\0.6972\\end{bmatrix}\\;\\;$  \n",
    "\n",
    "$U_{1,1} \\circ U_{2,1} \\\\\n",
    "= \\begin{bmatrix} 0.6981\\\\0.1774 \\\\0.6937\\end{bmatrix} \\circ \\begin{bmatrix} 0.6192 & 0.3613 & 0.6972\\end{bmatrix} \\\\\n",
    "= \\begin{bmatrix} 0.6981*0.6192 & 0.6981*0.3613 & 0.6981*0.6972 \\\\ \n",
    "                   0.1774*0.6192 & 0.1774*0.3613 & 0.1774*0.6972 \\\\ \n",
    "                   0.6937*0.6192 & 0.6937*0.3613 & 0.6937*0.6972 \\end{bmatrix} \\\\\n",
    "= \\begin{bmatrix} 0.43226352 & 0.25222353 & 0.48671532 \\\\\n",
    "                 0.10984608 & 0.06409462 & 0.12368328 \\\\\n",
    "                 0.42953904 & 0.25063381 & 0.48364764 \\end{bmatrix}$ "
   ]
  },
  {
   "cell_type": "markdown",
   "id": "b35a60c9",
   "metadata": {},
   "source": [
    "### Part 1b\n",
    "$\\lambda_1U_{1,1} \\circ U_{2,1} \\circ U_{3,1} \\circ U_{4,1}$"
   ]
  },
  {
   "cell_type": "code",
   "execution_count": 3,
   "id": "4a01a129",
   "metadata": {},
   "outputs": [
    {
     "name": "stdout",
     "output_type": "stream",
     "text": [
      "[[[[7.53169304 8.36104576]\n",
      "   [6.95335795 7.71902727]\n",
      "   [6.47565559 7.1887227 ]]\n",
      "\n",
      "  [[4.39470396 4.87862699]\n",
      "   [4.05724843 4.50401252]\n",
      "   [3.77851157 4.19458254]]\n",
      "\n",
      "  [[8.48045282 9.41427827]\n",
      "   [7.82926544 8.69138536]\n",
      "   [7.29138739 8.09427885]]]\n",
      "\n",
      "\n",
      " [[[1.91394119 2.12469491]\n",
      "   [1.76697565 1.96154625]\n",
      "   [1.64558273 1.82678614]]\n",
      "\n",
      "  [[1.11677479 1.2397485 ]\n",
      "   [1.03102116 1.1445521 ]\n",
      "   [0.96018902 1.06592027]]\n",
      "\n",
      "  [[2.15503843 2.39234059]\n",
      "   [1.98955979 2.20864026]\n",
      "   [1.85287512 2.05690455]]]\n",
      "\n",
      "\n",
      " [[[7.48422212 8.30834757]\n",
      "   [6.90953217 7.67037562]\n",
      "   [6.43484068 7.14341346]]\n",
      "\n",
      "  [[4.36700493 4.84787787]\n",
      "   [4.03167631 4.47562453]\n",
      "   [3.75469628 4.16814484]]\n",
      "\n",
      "  [[8.42700203 9.35494175]\n",
      "   [7.77991897 8.6366051 ]\n",
      "   [7.24543108 8.04326205]]]]\n"
     ]
    }
   ],
   "source": [
    "v1 = lam[0]*outer((outer((outer([U1[:,0], U2[:,0]]),U3[:,0])),U4[:,0]))\n",
    "print(v1)"
   ]
  },
  {
   "cell_type": "markdown",
   "id": "388f03e9",
   "metadata": {},
   "source": [
    "$\\lambda_2U_{1,2} \\circ U_{2,2} \\circ U_{3,2} \\circ U_{4,2}$"
   ]
  },
  {
   "cell_type": "code",
   "execution_count": 4,
   "id": "14494e1e",
   "metadata": {},
   "outputs": [
    {
     "name": "stdout",
     "output_type": "stream",
     "text": [
      "[[[[-2.55595915 -3.45550892]\n",
      "   [-2.5740198  -3.47992588]\n",
      "   [-0.99973259 -1.35158063]]\n",
      "\n",
      "  [[-0.82170374 -1.11089593]\n",
      "   [-0.82750998 -1.11874563]\n",
      "   [-0.32139951 -0.43451354]]\n",
      "\n",
      "  [[-1.61396023 -2.18198087]\n",
      "   [-1.62536463 -2.19739896]\n",
      "   [-0.63128107 -0.8534555 ]]]\n",
      "\n",
      "\n",
      " [[[ 4.33091368  5.85514478]\n",
      "   [ 4.36151634  5.8965178 ]\n",
      "   [ 1.69398464  2.29016924]]\n",
      "\n",
      "  [[ 1.39232585  1.88234401]\n",
      "   [ 1.40216416  1.89564483]\n",
      "   [ 0.54459146  0.73625615]]\n",
      "\n",
      "  [[ 2.73475515  3.69723077]\n",
      "   [ 2.7540792   3.72335577]\n",
      "   [ 1.06966649  1.44612721]]]\n",
      "\n",
      "\n",
      " [[[-3.54806272 -4.79677556]\n",
      "   [-3.57313368 -4.83067005]\n",
      "   [-1.38778193 -1.87620089]]\n",
      "\n",
      "  [[-1.14065063 -1.54209368]\n",
      "   [-1.14871058 -1.55299026]\n",
      "   [-0.44615173 -0.60317134]]\n",
      "\n",
      "  [[-2.24042397 -3.02892361]\n",
      "   [-2.25625502 -3.05032627]\n",
      "   [-0.87631481 -1.18472693]]]]\n"
     ]
    }
   ],
   "source": [
    "v2 = lam[1]*outer((outer((outer([U1[:,1], U2[:,1]]),U3[:,1])),U4[:,1]))\n",
    "print(v2)"
   ]
  },
  {
   "cell_type": "markdown",
   "id": "fb7d105d",
   "metadata": {},
   "source": [
    "$\\chi$ - the full reconstruction  \n",
    "$\\chi = \\lambda_1U_{1,1} \\circ U_{2,1} \\circ U_{3,1} \\circ U_{4,1} + \\lambda_2U_{1,2} \\circ U_{2,2} \\circ U_{3,2} \\circ U_{4,2}$"
   ]
  },
  {
   "cell_type": "code",
   "execution_count": 5,
   "id": "452f02b2",
   "metadata": {},
   "outputs": [
    {
     "name": "stdout",
     "output_type": "stream",
     "text": [
      "[[[[4.97573389 4.90553684]\n",
      "   [4.37933814 4.23910139]\n",
      "   [5.475923   5.83714207]]\n",
      "\n",
      "  [[3.57300022 3.76773106]\n",
      "   [3.22973844 3.38526689]\n",
      "   [3.45711206 3.760069  ]]\n",
      "\n",
      "  [[6.86649259 7.23229739]\n",
      "   [6.20390081 6.4939864 ]\n",
      "   [6.66010632 7.24082335]]]\n",
      "\n",
      "\n",
      " [[[6.24485487 7.97983969]\n",
      "   [6.12849198 7.85806405]\n",
      "   [3.33956736 4.11695539]]\n",
      "\n",
      "  [[2.50910064 3.12209251]\n",
      "   [2.43318532 3.04019693]\n",
      "   [1.50478047 1.80217642]]\n",
      "\n",
      "  [[4.88979358 6.08957136]\n",
      "   [4.74363899 5.93199602]\n",
      "   [2.92254161 3.50303177]]]\n",
      "\n",
      "\n",
      " [[[3.9361594  3.51157201]\n",
      "   [3.33639849 2.83970557]\n",
      "   [5.04705875 5.26721256]]\n",
      "\n",
      "  [[3.22635429 3.3057842 ]\n",
      "   [2.88296573 2.92263427]\n",
      "   [3.30854455 3.5649735 ]]\n",
      "\n",
      "  [[6.18657807 6.32601814]\n",
      "   [5.52366395 5.58627883]\n",
      "   [6.36911627 6.85853512]]]]\n"
     ]
    }
   ],
   "source": [
    "X = v1 + v2\n",
    "print(X)"
   ]
  },
  {
   "cell_type": "markdown",
   "id": "fb921cfe",
   "metadata": {},
   "source": [
    "### Part 2\n",
    "**Compute the reconstruction of the Tucker decomposition.**"
   ]
  },
  {
   "cell_type": "code",
   "execution_count": 6,
   "id": "2f49743d",
   "metadata": {},
   "outputs": [],
   "source": [
    "G11 = np.array([[35.2489, 0.7832],[0.2884, -4.2162]])\n",
    "G21 = np.array([[0.3406, 2.0238],[-1.6475, -2.4122]])\n",
    "G12 = np.array([[0.0883, -1.4479],[0.9827, 3.4852]])\n",
    "G22 = np.array([[1.0571, -3.3204],[4.3714, -7.8907]])\n",
    "U1 = np.array([[0.6276,-0.0110],[80.5511, -0.7],[0.5499, 0.7141]])\n",
    "U2 = np.array([[0.5840, 0.6977],[0.3660, 0.23],[0.7246, -0.6785]])\n",
    "U3 = np.array([[0.6157, -0.4874],[0.5428, 0.8319],[0.5712, -0.2651]])\n",
    "U4 = np.array([[0.6827, 0.7307],[0.7307, -0.6827]])"
   ]
  },
  {
   "cell_type": "code",
   "execution_count": 7,
   "id": "855d2e24",
   "metadata": {
    "scrolled": true
   },
   "outputs": [
    {
     "data": {
      "text/plain": [
       "(4, 2, 2)"
      ]
     },
     "execution_count": 7,
     "metadata": {},
     "output_type": "execute_result"
    }
   ],
   "source": [
    "core = np.array([[[35.2489, 0.7832],[0.2884, -4.2162]], [[0.0883, -1.4479],[0.9827, 3.4852]], [[0.3406, 2.0238],[-1.6475, -2.4122]], [[1.0571, -3.3204],[4.3714, -7.8907]]])\n",
    "core.shape"
   ]
  },
  {
   "cell_type": "code",
   "execution_count": 8,
   "id": "9a5bd10a",
   "metadata": {},
   "outputs": [],
   "source": [
    "core = np.zeros([2,2,2,2])\n",
    "core[0,0,:,:] = G11\n",
    "core[1,0,:,:] = G12\n",
    "core[0,1,:,:] = G21\n",
    "core[1,1,:,:] = G22"
   ]
  },
  {
   "cell_type": "code",
   "execution_count": 9,
   "id": "85811481",
   "metadata": {},
   "outputs": [
    {
     "data": {
      "text/plain": [
       "array([[[[  7.16409542,   4.74824783],\n",
       "         [  3.38817996,   5.78954063],\n",
       "         [  6.21218188,   4.64283751]],\n",
       "\n",
       "        [[  4.17041786,   3.08932083],\n",
       "         [  2.30763958,   3.68045675],\n",
       "         [  3.66600009,   3.00793363]],\n",
       "\n",
       "        [[  6.50911262,   6.73730222],\n",
       "         [  5.57647095,   7.57141737],\n",
       "         [  6.01464889,   6.49233295]]],\n",
       "\n",
       "\n",
       "       [[[918.74089459, 608.88560844],\n",
       "         [434.14448847, 747.10275307],\n",
       "         [796.61124464, 596.06364018]],\n",
       "\n",
       "        [[534.74561614, 396.50910845],\n",
       "         [296.2064984 , 473.60633606],\n",
       "         [470.11378933, 386.24498443]],\n",
       "\n",
       "        [[834.15691814, 866.58642681],\n",
       "         [718.39360561, 967.11242866],\n",
       "         [771.34738059, 834.0745027 ]]],\n",
       "\n",
       "\n",
       "       [[[  5.50927833,   3.60961442],\n",
       "         [  2.23557238,   9.16792806],\n",
       "         [  4.72238311,   4.23630735]],\n",
       "\n",
       "        [[  3.12694362,   2.70834679],\n",
       "         [  2.0483356 ,   4.47302962],\n",
       "         [  2.79590253,   2.82182337]],\n",
       "\n",
       "        [[  4.40835854,   7.80274221],\n",
       "         [  7.59632756,   1.89342928],\n",
       "         [  4.63986278,   6.49953558]]]])"
      ]
     },
     "execution_count": 9,
     "metadata": {},
     "output_type": "execute_result"
    }
   ],
   "source": [
    "tl.tucker_to_tensor((core, [U1, U2, U3, U4]))"
   ]
  },
  {
   "cell_type": "markdown",
   "id": "a6eb924e",
   "metadata": {},
   "source": [
    "### Part 3\n",
    "**Calculate the MSE for CP and Tucker decompositions. Briefly discuss the difference, especially regarding the relative reduction of features for each method.** "
   ]
  },
  {
   "cell_type": "code",
   "execution_count": 10,
   "id": "d44857ad",
   "metadata": {},
   "outputs": [],
   "source": [
    "X = np.zeros([2,3,3,3])\n",
    "X[0,0,:,:] = np.matrix([[4, 2, 6],[5, 2, 9],[6, 7, 2]])\n",
    "X[0,1,:,:] = np.matrix([ [4, 3, 6],[8, 4, 1],[4, 2, 9] ])\n",
    "X[0,2,:,:] = np.matrix([ [6, 3, 8], [0, 4, 5], [3, 2, 7] ])\n",
    "X[1,0,:,:] = np.matrix([ [4, 5, 8], [7, 3, 6],[2, 4, 9] ])\n",
    "X[1,1,:,:] = np.matrix([ [5, 1, 8], [8, 3, 6],[3, 5, 1] ])\n",
    "X[1,2,:,:] = np.matrix([[9, 3, 5],[7, 2, 0],[4, 2, 9] ])\n",
    "n = X.shape[0]*X.shape[1]*X.shape[2]*X.shape[3]"
   ]
  },
  {
   "cell_type": "code",
   "execution_count": 11,
   "id": "529ee321",
   "metadata": {},
   "outputs": [],
   "source": [
    "# CP Decomposition with optimal R\n",
    "CP_decomp = tl.decomposition.parafac(X,1)\n",
    "CP_X = tl.kruskal_to_tensor(CP_decomp)  \n",
    "cp_mse = np.sum((X - CP_X)**2)/n"
   ]
  },
  {
   "cell_type": "code",
   "execution_count": 12,
   "id": "6de073dd",
   "metadata": {},
   "outputs": [],
   "source": [
    "# Tucker Decomposition\n",
    "core, factors = tl.decomposition.tucker(X, rank=[2,2,2,2])\n",
    "tucker_X = tl.tucker_to_tensor((core, factors))\n",
    "tucker_mse = np.sum((X - tucker_X)**2)/n"
   ]
  },
  {
   "cell_type": "code",
   "execution_count": 13,
   "id": "c78335ff",
   "metadata": {},
   "outputs": [
    {
     "data": {
      "text/plain": [
       "((2, 1), (3, 1), (3, 1), (3, 1))"
      ]
     },
     "execution_count": 13,
     "metadata": {},
     "output_type": "execute_result"
    }
   ],
   "source": [
    "CP_decomp[1][0].shape,CP_decomp[1][1].shape,CP_decomp[1][2].shape,CP_decomp[1][3].shape"
   ]
  },
  {
   "cell_type": "code",
   "execution_count": 14,
   "id": "3f3c1082",
   "metadata": {},
   "outputs": [
    {
     "data": {
      "text/plain": [
       "((2, 2), (3, 2), (3, 2), (3, 2))"
      ]
     },
     "execution_count": 14,
     "metadata": {},
     "output_type": "execute_result"
    }
   ],
   "source": [
    "factors[0].shape, factors[1].shape, factors[2].shape, factors[3].shape"
   ]
  },
  {
   "cell_type": "code",
   "execution_count": 15,
   "id": "58be736a",
   "metadata": {},
   "outputs": [
    {
     "name": "stdout",
     "output_type": "stream",
     "text": [
      "MSE for CP Decomposition = 4.98583\n",
      "MSE for Tucker Decomposition = 2.62176\n",
      "Tucker decomposition provides a smaller MSE and a smaller number of features. CP decomposition contains 54 elements (2x3x3x3) while Tucker decomposition contains 22 elements (2*2+3*2+3*2+3*2).\n"
     ]
    }
   ],
   "source": [
    "print(\"MSE for CP Decomposition = \" + str(round(cp_mse,5)))\n",
    "print(\"MSE for Tucker Decomposition = \" + str(round(tucker_mse,5)))\n",
    "print(\"Tucker decomposition provides a smaller MSE and a smaller number of features. CP decomposition contains 54 elements (2x3x3x3) while Tucker decomposition contains 22 elements (2*2+3*2+3*2+3*2).\")"
   ]
  }
 ],
 "metadata": {
  "kernelspec": {
   "display_name": "Python 3 (ipykernel)",
   "language": "python",
   "name": "python3"
  },
  "language_info": {
   "codemirror_mode": {
    "name": "ipython",
    "version": 3
   },
   "file_extension": ".py",
   "mimetype": "text/x-python",
   "name": "python",
   "nbconvert_exporter": "python",
   "pygments_lexer": "ipython3",
   "version": "3.9.12"
  }
 },
 "nbformat": 4,
 "nbformat_minor": 5
}
